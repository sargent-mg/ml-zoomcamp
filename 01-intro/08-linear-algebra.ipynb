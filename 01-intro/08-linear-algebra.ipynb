{
 "cells": [
  {
   "metadata": {
    "collapsed": true
   },
   "cell_type": "markdown",
   "source": "# Machine Learning Zoomcamp",
   "id": "7a2ab94a68a898ec"
  },
  {
   "metadata": {},
   "cell_type": "markdown",
   "source": "## 1.8 Linear algebra refresher",
   "id": "8ba9bcd2a357544b"
  },
  {
   "metadata": {
    "ExecuteTime": {
     "end_time": "2025-09-22T04:19:50.470981Z",
     "start_time": "2025-09-22T04:19:50.466867Z"
    }
   },
   "cell_type": "markdown",
   "source": [
    "Plan:\n",
    "* Vector operations.\n",
    "* Multiplication.\n",
    "    * Vector-vector multiplication.\n",
    "    * Matrix-vector multiplication.\n",
    "    * Matrix-matrix multiplication.\n",
    "* Identity matrix.\n",
    "* Inverse"
   ],
   "id": "e534221b19f16457"
  },
  {
   "metadata": {
    "ExecuteTime": {
     "end_time": "2025-09-22T04:21:03.447026Z",
     "start_time": "2025-09-22T04:21:03.401745Z"
    }
   },
   "cell_type": "code",
   "source": "import numpy as np",
   "id": "91254390448ba19a",
   "outputs": [],
   "execution_count": 2
  },
  {
   "metadata": {},
   "cell_type": "markdown",
   "source": "### Vector operations.",
   "id": "446208d00e7febf"
  },
  {
   "metadata": {
    "ExecuteTime": {
     "end_time": "2025-09-22T04:22:10.900608Z",
     "start_time": "2025-09-22T04:22:10.895470Z"
    }
   },
   "cell_type": "code",
   "source": [
    "u = np.array([2, 4, 5, 6])\n",
    "u"
   ],
   "id": "81a02ba76a5ef8cb",
   "outputs": [
    {
     "data": {
      "text/plain": [
       "array([2, 4, 5, 6])"
      ]
     },
     "execution_count": 5,
     "metadata": {},
     "output_type": "execute_result"
    }
   ],
   "execution_count": 5
  },
  {
   "metadata": {
    "ExecuteTime": {
     "end_time": "2025-09-22T04:22:34.389929Z",
     "start_time": "2025-09-22T04:22:34.386190Z"
    }
   },
   "cell_type": "code",
   "source": [
    "v = np.array([1, 0, 0, 2])\n",
    "v"
   ],
   "id": "43e03b117b2cdcc0",
   "outputs": [
    {
     "data": {
      "text/plain": [
       "array([1, 0, 0, 2])"
      ]
     },
     "execution_count": 8,
     "metadata": {},
     "output_type": "execute_result"
    }
   ],
   "execution_count": 8
  },
  {
   "metadata": {
    "ExecuteTime": {
     "end_time": "2025-09-22T04:22:55.585453Z",
     "start_time": "2025-09-22T04:22:55.582907Z"
    }
   },
   "cell_type": "code",
   "source": "u + v",
   "id": "adba9eb7bbe3588b",
   "outputs": [
    {
     "data": {
      "text/plain": [
       "array([3, 4, 5, 8])"
      ]
     },
     "execution_count": 9,
     "metadata": {},
     "output_type": "execute_result"
    }
   ],
   "execution_count": 9
  },
  {
   "metadata": {},
   "cell_type": "markdown",
   "source": "### Multiplications",
   "id": "334b4dad11f0b955"
  },
  {
   "metadata": {},
   "cell_type": "markdown",
   "source": "#### Vector-vector multiplication (dot product)",
   "id": "29a80293df275e48"
  },
  {
   "metadata": {
    "ExecuteTime": {
     "end_time": "2025-09-22T04:28:28.361703Z",
     "start_time": "2025-09-22T04:28:28.359778Z"
    }
   },
   "cell_type": "code",
   "source": [
    "def vector_vector_multiplication(u, v):\n",
    "    assert u.shape[0] == v.shape[0]\n",
    "\n",
    "    n = u.shape[0]\n",
    "\n",
    "    result = 0.0\n",
    "\n",
    "    for i in range(n):\n",
    "        result = result + u[i] * v[i]\n",
    "\n",
    "    return result"
   ],
   "id": "5b13e347fe5401ec",
   "outputs": [],
   "execution_count": 10
  },
  {
   "metadata": {
    "ExecuteTime": {
     "end_time": "2025-09-22T04:31:19.362030Z",
     "start_time": "2025-09-22T04:31:19.358910Z"
    }
   },
   "cell_type": "code",
   "source": "vector_vector_multiplication(u, v)",
   "id": "6f5fe80564c3dc5e",
   "outputs": [
    {
     "data": {
      "text/plain": [
       "np.float64(14.0)"
      ]
     },
     "execution_count": 11,
     "metadata": {},
     "output_type": "execute_result"
    }
   ],
   "execution_count": 11
  },
  {
   "metadata": {
    "ExecuteTime": {
     "end_time": "2025-09-22T04:32:17.621952Z",
     "start_time": "2025-09-22T04:32:17.618570Z"
    }
   },
   "cell_type": "code",
   "source": "u.dot(v)",
   "id": "3492783a0bb2cab3",
   "outputs": [
    {
     "data": {
      "text/plain": [
       "np.int64(14)"
      ]
     },
     "execution_count": 12,
     "metadata": {},
     "output_type": "execute_result"
    }
   ],
   "execution_count": 12
  },
  {
   "metadata": {},
   "cell_type": "markdown",
   "source": "#### Matrix-vector multiplication.\n",
   "id": "ac817345aa960a6"
  },
  {
   "metadata": {
    "ExecuteTime": {
     "end_time": "2025-09-22T04:34:29.706770Z",
     "start_time": "2025-09-22T04:34:29.704568Z"
    }
   },
   "cell_type": "code",
   "source": [
    "def matrix_vector_multiplication(U, v):\n",
    "    assert U.shape[1] == v.shape[0]\n",
    "\n",
    "    num_rows = U.shape[0]\n",
    "\n",
    "    result = np.zeros(num_rows)\n",
    "\n",
    "    for i in range(num_rows):\n",
    "        result[i] = vector_vector_multiplication(U[i], v)\n",
    "\n",
    "    return result"
   ],
   "id": "84b8609691f489a7",
   "outputs": [],
   "execution_count": 13
  },
  {
   "metadata": {
    "ExecuteTime": {
     "end_time": "2025-09-22T04:36:12.858127Z",
     "start_time": "2025-09-22T04:36:12.856433Z"
    }
   },
   "cell_type": "code",
   "source": [
    "U = np.array([\n",
    "    [2, 4, 5, 6],\n",
    "    [1, 2, 1, 2],\n",
    "    [3, 1, 2, 1]\n",
    "])"
   ],
   "id": "4e39c04a8da9824",
   "outputs": [],
   "execution_count": 14
  },
  {
   "metadata": {
    "ExecuteTime": {
     "end_time": "2025-09-22T04:39:00.968638Z",
     "start_time": "2025-09-22T04:39:00.965661Z"
    }
   },
   "cell_type": "code",
   "source": "matrix_vector_multiplication(U, v)",
   "id": "82779bfdab654d5f",
   "outputs": [
    {
     "data": {
      "text/plain": [
       "array([14.,  5.,  5.])"
      ]
     },
     "execution_count": 17,
     "metadata": {},
     "output_type": "execute_result"
    }
   ],
   "execution_count": 17
  },
  {
   "metadata": {
    "ExecuteTime": {
     "end_time": "2025-09-22T04:40:22.410870Z",
     "start_time": "2025-09-22T04:40:22.408376Z"
    }
   },
   "cell_type": "code",
   "source": "U.dot(v)",
   "id": "d42cde06bbb2cb32",
   "outputs": [
    {
     "data": {
      "text/plain": [
       "array([14,  5,  5])"
      ]
     },
     "execution_count": 18,
     "metadata": {},
     "output_type": "execute_result"
    }
   ],
   "execution_count": 18
  },
  {
   "metadata": {},
   "cell_type": "markdown",
   "source": "#### Matrix-matrix multiplication.",
   "id": "9d13638797b2d722"
  },
  {
   "metadata": {
    "ExecuteTime": {
     "end_time": "2025-09-22T04:42:33.717296Z",
     "start_time": "2025-09-22T04:42:33.714772Z"
    }
   },
   "cell_type": "code",
   "source": [
    "def matrix_matrix_multiplication(U, V):\n",
    "    assert U.shape[1] == V.shape[0]\n",
    "\n",
    "    num_rows = U.shape[0]\n",
    "    num_cols = V.shape[1]\n",
    "\n",
    "    result = np.zeros((num_rows, num_cols))\n",
    "\n",
    "    for i in range(num_cols):\n",
    "        vi = V[:, i]\n",
    "        Uvi = matrix_vector_multiplication(U, vi)\n",
    "        result[:, i] = Uvi\n",
    "\n",
    "    return result"
   ],
   "id": "bd0eda3b36c26f82",
   "outputs": [],
   "execution_count": 19
  },
  {
   "metadata": {
    "ExecuteTime": {
     "end_time": "2025-09-22T04:42:51.159296Z",
     "start_time": "2025-09-22T04:42:51.156733Z"
    }
   },
   "cell_type": "code",
   "source": [
    "V = np.array([\n",
    "    [1, 1, 2],\n",
    "    [0, 0.5, 1],\n",
    "    [0, 2, 1],\n",
    "    [2, 1, 0]\n",
    "])"
   ],
   "id": "29779dfef3d006c0",
   "outputs": [],
   "execution_count": 20
  },
  {
   "metadata": {
    "ExecuteTime": {
     "end_time": "2025-09-22T04:42:59.476675Z",
     "start_time": "2025-09-22T04:42:59.473667Z"
    }
   },
   "cell_type": "code",
   "source": "matrix_matrix_multiplication(U, V)",
   "id": "5df20ff5374b1ea9",
   "outputs": [
    {
     "data": {
      "text/plain": [
       "array([[14. , 20. , 13. ],\n",
       "       [ 5. ,  6. ,  5. ],\n",
       "       [ 5. ,  8.5,  9. ]])"
      ]
     },
     "execution_count": 21,
     "metadata": {},
     "output_type": "execute_result"
    }
   ],
   "execution_count": 21
  },
  {
   "metadata": {
    "ExecuteTime": {
     "end_time": "2025-09-22T04:43:08.212676Z",
     "start_time": "2025-09-22T04:43:08.210112Z"
    }
   },
   "cell_type": "code",
   "source": "U.dot(V)",
   "id": "2f3b3a0ef0711c41",
   "outputs": [
    {
     "data": {
      "text/plain": [
       "array([[14. , 20. , 13. ],\n",
       "       [ 5. ,  6. ,  5. ],\n",
       "       [ 5. ,  8.5,  9. ]])"
      ]
     },
     "execution_count": 22,
     "metadata": {},
     "output_type": "execute_result"
    }
   ],
   "execution_count": 22
  },
  {
   "metadata": {},
   "cell_type": "markdown",
   "source": "### Identity matrix.",
   "id": "6a56077f5b25ffbb"
  },
  {
   "metadata": {
    "ExecuteTime": {
     "end_time": "2025-09-22T04:44:08.081038Z",
     "start_time": "2025-09-22T04:44:08.077531Z"
    }
   },
   "cell_type": "code",
   "source": [
    "I = np.eye(3)\n",
    "I"
   ],
   "id": "912b42e21956f3c9",
   "outputs": [
    {
     "data": {
      "text/plain": [
       "array([[1., 0., 0.],\n",
       "       [0., 1., 0.],\n",
       "       [0., 0., 1.]])"
      ]
     },
     "execution_count": 24,
     "metadata": {},
     "output_type": "execute_result"
    }
   ],
   "execution_count": 24
  },
  {
   "metadata": {
    "ExecuteTime": {
     "end_time": "2025-09-22T04:53:59.024255Z",
     "start_time": "2025-09-22T04:53:59.022013Z"
    }
   },
   "cell_type": "code",
   "source": "V",
   "id": "b98aa50eb1f60d70",
   "outputs": [
    {
     "data": {
      "text/plain": [
       "array([[1. , 1. , 2. ],\n",
       "       [0. , 0.5, 1. ],\n",
       "       [0. , 2. , 1. ]])"
      ]
     },
     "execution_count": 31,
     "metadata": {},
     "output_type": "execute_result"
    }
   ],
   "execution_count": 31
  },
  {
   "metadata": {
    "ExecuteTime": {
     "end_time": "2025-09-22T04:51:03.231893Z",
     "start_time": "2025-09-22T04:51:03.228852Z"
    }
   },
   "cell_type": "code",
   "source": "V.dot(I)",
   "id": "356aa2dc7bc0f15c",
   "outputs": [
    {
     "data": {
      "text/plain": [
       "array([[1. , 1. , 2. ],\n",
       "       [0. , 0.5, 1. ],\n",
       "       [0. , 2. , 1. ]])"
      ]
     },
     "execution_count": 27,
     "metadata": {},
     "output_type": "execute_result"
    }
   ],
   "execution_count": 27
  },
  {
   "metadata": {},
   "cell_type": "markdown",
   "source": "### Inverse.",
   "id": "cccb5e172d8f2ba6"
  },
  {
   "metadata": {
    "ExecuteTime": {
     "end_time": "2025-09-22T04:54:10.725137Z",
     "start_time": "2025-09-22T04:54:10.722316Z"
    }
   },
   "cell_type": "code",
   "source": [
    "Vs = V[[0, 1, 2]]\n",
    "Vs"
   ],
   "id": "ac0cd2d434e5bb48",
   "outputs": [
    {
     "data": {
      "text/plain": [
       "array([[1. , 1. , 2. ],\n",
       "       [0. , 0.5, 1. ],\n",
       "       [0. , 2. , 1. ]])"
      ]
     },
     "execution_count": 32,
     "metadata": {},
     "output_type": "execute_result"
    }
   ],
   "execution_count": 32
  },
  {
   "metadata": {
    "ExecuteTime": {
     "end_time": "2025-09-22T04:55:03.559802Z",
     "start_time": "2025-09-22T04:55:03.557920Z"
    }
   },
   "cell_type": "code",
   "source": [
    "Vs_inv = np.linalg.inv(Vs)\n",
    "Vs_inv"
   ],
   "id": "467ee8c636c4d38e",
   "outputs": [
    {
     "data": {
      "text/plain": [
       "array([[ 1.        , -2.        ,  0.        ],\n",
       "       [ 0.        , -0.66666667,  0.66666667],\n",
       "       [ 0.        ,  1.33333333, -0.33333333]])"
      ]
     },
     "execution_count": 34,
     "metadata": {},
     "output_type": "execute_result"
    }
   ],
   "execution_count": 34
  },
  {
   "metadata": {
    "ExecuteTime": {
     "end_time": "2025-09-22T04:55:14.519475Z",
     "start_time": "2025-09-22T04:55:14.517093Z"
    }
   },
   "cell_type": "code",
   "source": "Vs_inv.dot(Vs)",
   "id": "d482cf291b7486b7",
   "outputs": [
    {
     "data": {
      "text/plain": [
       "array([[1., 0., 0.],\n",
       "       [0., 1., 0.],\n",
       "       [0., 0., 1.]])"
      ]
     },
     "execution_count": 35,
     "metadata": {},
     "output_type": "execute_result"
    }
   ],
   "execution_count": 35
  },
  {
   "metadata": {},
   "cell_type": "code",
   "outputs": [],
   "execution_count": null,
   "source": "",
   "id": "9e22c51b546aec4d"
  }
 ],
 "metadata": {
  "kernelspec": {
   "display_name": "Python 3",
   "language": "python",
   "name": "python3"
  },
  "language_info": {
   "codemirror_mode": {
    "name": "ipython",
    "version": 2
   },
   "file_extension": ".py",
   "mimetype": "text/x-python",
   "name": "python",
   "nbconvert_exporter": "python",
   "pygments_lexer": "ipython2",
   "version": "2.7.6"
  }
 },
 "nbformat": 4,
 "nbformat_minor": 5
}
