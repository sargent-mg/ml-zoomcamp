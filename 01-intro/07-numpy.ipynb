{
 "cells": [
  {
   "metadata": {},
   "cell_type": "markdown",
   "source": "# Machine Learning Zoomcamp",
   "id": "d8abe1a0b6c79d5d"
  },
  {
   "metadata": {},
   "cell_type": "markdown",
   "source": "## 1.7 Introduction to NumPy",
   "id": "cb86d402fa922ddc"
  },
  {
   "metadata": {},
   "cell_type": "markdown",
   "source": [
    "Plan:\n",
    "* Creating arrays.\n",
    "* Multi-dimensional arrays.\n",
    "* Randomly generated arrays.\n",
    "* Element-wise operations.\n",
    "    * Comparison operations.\n",
    "    * Logical operations.\n",
    "* Summarizing operations."
   ],
   "id": "8a2f9a3d32edc72c"
  },
  {
   "metadata": {
    "collapsed": true,
    "ExecuteTime": {
     "end_time": "2025-09-22T03:43:41.992846Z",
     "start_time": "2025-09-22T03:43:41.929967Z"
    }
   },
   "cell_type": "code",
   "source": "import numpy as np",
   "id": "307db3ce29152be3",
   "outputs": [],
   "execution_count": 2
  },
  {
   "metadata": {
    "ExecuteTime": {
     "end_time": "2025-09-22T03:44:19.488883Z",
     "start_time": "2025-09-22T03:44:19.485996Z"
    }
   },
   "cell_type": "code",
   "source": "np",
   "id": "9c9e666b0d389ed4",
   "outputs": [
    {
     "data": {
      "text/plain": [
       "<module 'numpy' from '/opt/homebrew/anaconda3/envs/ml-zoomcamp/lib/python3.11/site-packages/numpy/__init__.py'>"
      ]
     },
     "execution_count": 5,
     "metadata": {},
     "output_type": "execute_result"
    }
   ],
   "execution_count": 5
  },
  {
   "metadata": {},
   "cell_type": "markdown",
   "source": "### Creating arrays.",
   "id": "38d22ac30c826ff4"
  },
  {
   "metadata": {
    "ExecuteTime": {
     "end_time": "2025-09-22T03:44:58.218277Z",
     "start_time": "2025-09-22T03:44:58.215399Z"
    }
   },
   "cell_type": "code",
   "source": "np.zeros(10)",
   "id": "fe2e0ad612e402c4",
   "outputs": [
    {
     "data": {
      "text/plain": [
       "array([0., 0., 0., 0., 0., 0., 0., 0., 0., 0.])"
      ]
     },
     "execution_count": 6,
     "metadata": {},
     "output_type": "execute_result"
    }
   ],
   "execution_count": 6
  },
  {
   "metadata": {
    "ExecuteTime": {
     "end_time": "2025-09-22T03:46:27.663992Z",
     "start_time": "2025-09-22T03:46:27.660465Z"
    }
   },
   "cell_type": "code",
   "source": "np.ones(10)",
   "id": "8d68c121a344a656",
   "outputs": [
    {
     "data": {
      "text/plain": [
       "array([1., 1., 1., 1., 1., 1., 1., 1., 1., 1.])"
      ]
     },
     "execution_count": 8,
     "metadata": {},
     "output_type": "execute_result"
    }
   ],
   "execution_count": 8
  },
  {
   "metadata": {
    "ExecuteTime": {
     "end_time": "2025-09-22T03:47:40.668473Z",
     "start_time": "2025-09-22T03:47:40.665587Z"
    }
   },
   "cell_type": "code",
   "source": "np.full(10, 2.5)",
   "id": "edfaf843fc8a82d8",
   "outputs": [
    {
     "data": {
      "text/plain": [
       "array([2.5, 2.5, 2.5, 2.5, 2.5, 2.5, 2.5, 2.5, 2.5, 2.5])"
      ]
     },
     "execution_count": 9,
     "metadata": {},
     "output_type": "execute_result"
    }
   ],
   "execution_count": 9
  },
  {
   "metadata": {
    "ExecuteTime": {
     "end_time": "2025-09-22T03:48:41.228196Z",
     "start_time": "2025-09-22T03:48:41.225350Z"
    }
   },
   "cell_type": "code",
   "source": [
    "a =np.array([1, 2, 3, 5, 7, 12])\n",
    "a"
   ],
   "id": "b965ac0df05ddf87",
   "outputs": [
    {
     "data": {
      "text/plain": [
       "array([ 1,  2,  3,  5,  7, 12])"
      ]
     },
     "execution_count": 11,
     "metadata": {},
     "output_type": "execute_result"
    }
   ],
   "execution_count": 11
  },
  {
   "metadata": {
    "ExecuteTime": {
     "end_time": "2025-09-22T03:48:56.988772Z",
     "start_time": "2025-09-22T03:48:56.986482Z"
    }
   },
   "cell_type": "code",
   "source": "a[2]",
   "id": "e7730d7c5a2ea418",
   "outputs": [
    {
     "data": {
      "text/plain": [
       "np.int64(3)"
      ]
     },
     "execution_count": 12,
     "metadata": {},
     "output_type": "execute_result"
    }
   ],
   "execution_count": 12
  },
  {
   "metadata": {
    "ExecuteTime": {
     "end_time": "2025-09-22T03:49:41.785667Z",
     "start_time": "2025-09-22T03:49:41.783314Z"
    }
   },
   "cell_type": "code",
   "source": "a[2] = 10",
   "id": "e872388b4e6f6546",
   "outputs": [],
   "execution_count": 14
  },
  {
   "metadata": {
    "ExecuteTime": {
     "end_time": "2025-09-22T03:49:47.953715Z",
     "start_time": "2025-09-22T03:49:47.950437Z"
    }
   },
   "cell_type": "code",
   "source": "a",
   "id": "5526739f6ac5af4f",
   "outputs": [
    {
     "data": {
      "text/plain": [
       "array([ 1,  2, 10,  5,  7, 12])"
      ]
     },
     "execution_count": 15,
     "metadata": {},
     "output_type": "execute_result"
    }
   ],
   "execution_count": 15
  },
  {
   "metadata": {
    "ExecuteTime": {
     "end_time": "2025-09-22T03:50:16.254146Z",
     "start_time": "2025-09-22T03:50:16.251139Z"
    }
   },
   "cell_type": "code",
   "source": "np.arange(3, 10)",
   "id": "8d7e7b87aff9d03a",
   "outputs": [
    {
     "data": {
      "text/plain": [
       "array([3, 4, 5, 6, 7, 8, 9])"
      ]
     },
     "execution_count": 16,
     "metadata": {},
     "output_type": "execute_result"
    }
   ],
   "execution_count": 16
  },
  {
   "metadata": {
    "ExecuteTime": {
     "end_time": "2025-09-22T03:50:59.962648Z",
     "start_time": "2025-09-22T03:50:59.959966Z"
    }
   },
   "cell_type": "code",
   "source": "np.linspace(0, 1, 11)",
   "id": "2fed4e215e8c7ffc",
   "outputs": [
    {
     "data": {
      "text/plain": [
       "array([0. , 0.1, 0.2, 0.3, 0.4, 0.5, 0.6, 0.7, 0.8, 0.9, 1. ])"
      ]
     },
     "execution_count": 18,
     "metadata": {},
     "output_type": "execute_result"
    }
   ],
   "execution_count": 18
  },
  {
   "metadata": {},
   "cell_type": "markdown",
   "source": "### Multi-dimensional arrays.",
   "id": "7ecc851170b283f1"
  },
  {
   "metadata": {
    "ExecuteTime": {
     "end_time": "2025-09-22T03:52:14.965299Z",
     "start_time": "2025-09-22T03:52:14.962664Z"
    }
   },
   "cell_type": "code",
   "source": "np.zeros((5, 2))",
   "id": "ec12b5d0718ac3a4",
   "outputs": [
    {
     "data": {
      "text/plain": [
       "array([[0., 0.],\n",
       "       [0., 0.],\n",
       "       [0., 0.],\n",
       "       [0., 0.],\n",
       "       [0., 0.]])"
      ]
     },
     "execution_count": 19,
     "metadata": {},
     "output_type": "execute_result"
    }
   ],
   "execution_count": 19
  },
  {
   "metadata": {
    "ExecuteTime": {
     "end_time": "2025-09-22T03:53:20.644586Z",
     "start_time": "2025-09-22T03:53:20.641609Z"
    }
   },
   "cell_type": "code",
   "source": [
    "n = np.array([\n",
    "    [1, 2, 3],\n",
    "    [4, 5, 6],\n",
    "    [7, 8, 9]\n",
    "])\n",
    "n"
   ],
   "id": "5098207fa5f9a757",
   "outputs": [
    {
     "data": {
      "text/plain": [
       "array([[1, 2, 3],\n",
       "       [4, 5, 6],\n",
       "       [7, 8, 9]])"
      ]
     },
     "execution_count": 21,
     "metadata": {},
     "output_type": "execute_result"
    }
   ],
   "execution_count": 21
  },
  {
   "metadata": {
    "ExecuteTime": {
     "end_time": "2025-09-22T03:54:08.812106Z",
     "start_time": "2025-09-22T03:54:08.809460Z"
    }
   },
   "cell_type": "code",
   "source": "n[0, 1]",
   "id": "ed441c3b1438463f",
   "outputs": [
    {
     "data": {
      "text/plain": [
       "np.int64(2)"
      ]
     },
     "execution_count": 22,
     "metadata": {},
     "output_type": "execute_result"
    }
   ],
   "execution_count": 22
  },
  {
   "metadata": {
    "ExecuteTime": {
     "end_time": "2025-09-22T03:54:29.370382Z",
     "start_time": "2025-09-22T03:54:29.367904Z"
    }
   },
   "cell_type": "code",
   "source": [
    "n[0, 1] = 10\n",
    "n"
   ],
   "id": "8a9ee29dbe9d5467",
   "outputs": [
    {
     "data": {
      "text/plain": [
       "array([[ 1, 10,  3],\n",
       "       [ 4,  5,  6],\n",
       "       [ 7,  8,  9]])"
      ]
     },
     "execution_count": 23,
     "metadata": {},
     "output_type": "execute_result"
    }
   ],
   "execution_count": 23
  },
  {
   "metadata": {
    "ExecuteTime": {
     "end_time": "2025-09-22T03:55:09.555503Z",
     "start_time": "2025-09-22T03:55:09.553105Z"
    }
   },
   "cell_type": "code",
   "source": "n[0]",
   "id": "6347f9cbfc073282",
   "outputs": [
    {
     "data": {
      "text/plain": [
       "array([ 1, 10,  3])"
      ]
     },
     "execution_count": 25,
     "metadata": {},
     "output_type": "execute_result"
    }
   ],
   "execution_count": 25
  },
  {
   "metadata": {
    "ExecuteTime": {
     "end_time": "2025-09-22T03:55:56.619350Z",
     "start_time": "2025-09-22T03:55:56.616398Z"
    }
   },
   "cell_type": "code",
   "source": "n[:, 1]",
   "id": "8297d3ec8c362aa4",
   "outputs": [
    {
     "data": {
      "text/plain": [
       "array([10,  5,  8])"
      ]
     },
     "execution_count": 27,
     "metadata": {},
     "output_type": "execute_result"
    }
   ],
   "execution_count": 27
  },
  {
   "metadata": {
    "ExecuteTime": {
     "end_time": "2025-09-22T03:56:54.153494Z",
     "start_time": "2025-09-22T03:56:54.150988Z"
    }
   },
   "cell_type": "code",
   "source": [
    "n[:, 2] = [0, 1, 2]\n",
    "n"
   ],
   "id": "ea318ae962710e4",
   "outputs": [
    {
     "data": {
      "text/plain": [
       "array([[ 1, 10,  0],\n",
       "       [ 4,  5,  1],\n",
       "       [ 7,  8,  2]])"
      ]
     },
     "execution_count": 28,
     "metadata": {},
     "output_type": "execute_result"
    }
   ],
   "execution_count": 28
  },
  {
   "metadata": {},
   "cell_type": "markdown",
   "source": "### Randomly generated arrays",
   "id": "6bc63f0bd030dc84"
  },
  {
   "metadata": {
    "ExecuteTime": {
     "end_time": "2025-09-22T03:58:42.266157Z",
     "start_time": "2025-09-22T03:58:42.263501Z"
    }
   },
   "cell_type": "code",
   "source": "np.random.rand(5, 2)",
   "id": "dfaa2f5da7782715",
   "outputs": [
    {
     "data": {
      "text/plain": [
       "array([[0.17571717, 0.55849132],\n",
       "       [0.65351853, 0.05008997],\n",
       "       [0.4417938 , 0.15069852],\n",
       "       [0.75047874, 0.34807767],\n",
       "       [0.49174943, 0.81209087]])"
      ]
     },
     "execution_count": 32,
     "metadata": {},
     "output_type": "execute_result"
    }
   ],
   "execution_count": 32
  },
  {
   "metadata": {
    "ExecuteTime": {
     "end_time": "2025-09-22T04:00:12.924517Z",
     "start_time": "2025-09-22T04:00:12.922160Z"
    }
   },
   "cell_type": "code",
   "source": [
    "np.random.seed(10)\n",
    "np.random.rand(5, 2)"
   ],
   "id": "c035919386eb905b",
   "outputs": [
    {
     "data": {
      "text/plain": [
       "array([[0.77132064, 0.02075195],\n",
       "       [0.63364823, 0.74880388],\n",
       "       [0.49850701, 0.22479665],\n",
       "       [0.19806286, 0.76053071],\n",
       "       [0.16911084, 0.08833981]])"
      ]
     },
     "execution_count": 42,
     "metadata": {},
     "output_type": "execute_result"
    }
   ],
   "execution_count": 42
  },
  {
   "metadata": {
    "ExecuteTime": {
     "end_time": "2025-09-22T04:00:37.591247Z",
     "start_time": "2025-09-22T04:00:37.588687Z"
    }
   },
   "cell_type": "code",
   "source": [
    "np.random.seed(2)\n",
    "np.random.randn(5, 2)"
   ],
   "id": "73a75639c09fae13",
   "outputs": [
    {
     "data": {
      "text/plain": [
       "array([[-0.41675785, -0.05626683],\n",
       "       [-2.1361961 ,  1.64027081],\n",
       "       [-1.79343559, -0.84174737],\n",
       "       [ 0.50288142, -1.24528809],\n",
       "       [-1.05795222, -0.90900761]])"
      ]
     },
     "execution_count": 43,
     "metadata": {},
     "output_type": "execute_result"
    }
   ],
   "execution_count": 43
  },
  {
   "metadata": {
    "ExecuteTime": {
     "end_time": "2025-09-22T04:02:38.815660Z",
     "start_time": "2025-09-22T04:02:38.812895Z"
    }
   },
   "cell_type": "code",
   "source": [
    "np.random.seed(2)\n",
    "np.random.randint(low=0, high=100, size=(5, 2))"
   ],
   "id": "e98862490ee09530",
   "outputs": [
    {
     "data": {
      "text/plain": [
       "array([[40, 15],\n",
       "       [72, 22],\n",
       "       [43, 82],\n",
       "       [75,  7],\n",
       "       [34, 49]])"
      ]
     },
     "execution_count": 44,
     "metadata": {},
     "output_type": "execute_result"
    }
   ],
   "execution_count": 44
  },
  {
   "metadata": {},
   "cell_type": "markdown",
   "source": "### Element-wise operations.",
   "id": "eb3aca84be7d446d"
  },
  {
   "metadata": {
    "ExecuteTime": {
     "end_time": "2025-09-22T04:03:17.749972Z",
     "start_time": "2025-09-22T04:03:17.747393Z"
    }
   },
   "cell_type": "code",
   "source": [
    "a = np.arange(5)\n",
    "a"
   ],
   "id": "d662c002fa16a9ca",
   "outputs": [
    {
     "data": {
      "text/plain": [
       "array([0, 1, 2, 3, 4])"
      ]
     },
     "execution_count": 46,
     "metadata": {},
     "output_type": "execute_result"
    }
   ],
   "execution_count": 46
  },
  {
   "metadata": {
    "ExecuteTime": {
     "end_time": "2025-09-22T04:03:25.696376Z",
     "start_time": "2025-09-22T04:03:25.693815Z"
    }
   },
   "cell_type": "code",
   "source": "a + 1",
   "id": "73d94c9d7c5abc23",
   "outputs": [
    {
     "data": {
      "text/plain": [
       "array([1, 2, 3, 4, 5])"
      ]
     },
     "execution_count": 47,
     "metadata": {},
     "output_type": "execute_result"
    }
   ],
   "execution_count": 47
  },
  {
   "metadata": {
    "ExecuteTime": {
     "end_time": "2025-09-22T04:04:20.960224Z",
     "start_time": "2025-09-22T04:04:20.957899Z"
    }
   },
   "cell_type": "code",
   "source": "a / 100",
   "id": "5838f3039223616",
   "outputs": [
    {
     "data": {
      "text/plain": [
       "array([0.  , 0.01, 0.02, 0.03, 0.04])"
      ]
     },
     "execution_count": 48,
     "metadata": {},
     "output_type": "execute_result"
    }
   ],
   "execution_count": 48
  },
  {
   "metadata": {
    "ExecuteTime": {
     "end_time": "2025-09-22T04:04:30.814792Z",
     "start_time": "2025-09-22T04:04:30.812350Z"
    }
   },
   "cell_type": "code",
   "source": "10 + (a * 2)",
   "id": "bf684d9a693beab",
   "outputs": [
    {
     "data": {
      "text/plain": [
       "array([10, 12, 14, 16, 18])"
      ]
     },
     "execution_count": 49,
     "metadata": {},
     "output_type": "execute_result"
    }
   ],
   "execution_count": 49
  },
  {
   "metadata": {
    "ExecuteTime": {
     "end_time": "2025-09-22T04:07:24.373471Z",
     "start_time": "2025-09-22T04:07:24.370117Z"
    }
   },
   "cell_type": "code",
   "source": [
    "b = (10 + (a * 2)) ** 2 / 100\n",
    "b"
   ],
   "id": "a098664a1c1fcf85",
   "outputs": [
    {
     "data": {
      "text/plain": [
       "array([1.  , 1.44, 1.96, 2.56, 3.24])"
      ]
     },
     "execution_count": 51,
     "metadata": {},
     "output_type": "execute_result"
    }
   ],
   "execution_count": 51
  },
  {
   "metadata": {
    "ExecuteTime": {
     "end_time": "2025-09-22T04:07:40.685537Z",
     "start_time": "2025-09-22T04:07:40.683129Z"
    }
   },
   "cell_type": "code",
   "source": "a + b",
   "id": "38779d7c0f833137",
   "outputs": [
    {
     "data": {
      "text/plain": [
       "array([1.  , 2.44, 3.96, 5.56, 7.24])"
      ]
     },
     "execution_count": 52,
     "metadata": {},
     "output_type": "execute_result"
    }
   ],
   "execution_count": 52
  },
  {
   "metadata": {},
   "cell_type": "markdown",
   "source": "### Comparision operations",
   "id": "8f0fc076c54e4398"
  },
  {
   "metadata": {
    "ExecuteTime": {
     "end_time": "2025-09-22T04:09:30.738364Z",
     "start_time": "2025-09-22T04:09:30.735769Z"
    }
   },
   "cell_type": "code",
   "source": "a >= 2",
   "id": "f240eb2908f7e532",
   "outputs": [
    {
     "data": {
      "text/plain": [
       "array([False, False,  True,  True,  True])"
      ]
     },
     "execution_count": 53,
     "metadata": {},
     "output_type": "execute_result"
    }
   ],
   "execution_count": 53
  },
  {
   "metadata": {
    "ExecuteTime": {
     "end_time": "2025-09-22T04:10:34.689820Z",
     "start_time": "2025-09-22T04:10:34.687586Z"
    }
   },
   "cell_type": "code",
   "source": "a > b",
   "id": "187aebf923d6ece0",
   "outputs": [
    {
     "data": {
      "text/plain": [
       "array([False, False,  True,  True,  True])"
      ]
     },
     "execution_count": 54,
     "metadata": {},
     "output_type": "execute_result"
    }
   ],
   "execution_count": 54
  },
  {
   "metadata": {
    "ExecuteTime": {
     "end_time": "2025-09-22T04:10:57.353585Z",
     "start_time": "2025-09-22T04:10:57.351199Z"
    }
   },
   "cell_type": "code",
   "source": "a[a > b]",
   "id": "9d6c5db37b21b4e0",
   "outputs": [
    {
     "data": {
      "text/plain": [
       "array([2, 3, 4])"
      ]
     },
     "execution_count": 55,
     "metadata": {},
     "output_type": "execute_result"
    }
   ],
   "execution_count": 55
  },
  {
   "metadata": {},
   "cell_type": "markdown",
   "source": "### Summarizing operations",
   "id": "f243bce3d887f9b0"
  },
  {
   "metadata": {
    "ExecuteTime": {
     "end_time": "2025-09-22T04:12:49.116011Z",
     "start_time": "2025-09-22T04:12:49.113403Z"
    }
   },
   "cell_type": "code",
   "source": "a.min()",
   "id": "22e537372a1289eb",
   "outputs": [
    {
     "data": {
      "text/plain": [
       "np.int64(0)"
      ]
     },
     "execution_count": 56,
     "metadata": {},
     "output_type": "execute_result"
    }
   ],
   "execution_count": 56
  },
  {
   "metadata": {
    "ExecuteTime": {
     "end_time": "2025-09-22T04:12:53.661792Z",
     "start_time": "2025-09-22T04:12:53.659937Z"
    }
   },
   "cell_type": "code",
   "source": "a.max()",
   "id": "89baf692bf81be0c",
   "outputs": [
    {
     "data": {
      "text/plain": [
       "np.int64(4)"
      ]
     },
     "execution_count": 57,
     "metadata": {},
     "output_type": "execute_result"
    }
   ],
   "execution_count": 57
  },
  {
   "metadata": {
    "ExecuteTime": {
     "end_time": "2025-09-22T04:12:59.523200Z",
     "start_time": "2025-09-22T04:12:59.521339Z"
    }
   },
   "cell_type": "code",
   "source": "a.sum()",
   "id": "bda03525ffbcc0ed",
   "outputs": [
    {
     "data": {
      "text/plain": [
       "np.int64(10)"
      ]
     },
     "execution_count": 58,
     "metadata": {},
     "output_type": "execute_result"
    }
   ],
   "execution_count": 58
  },
  {
   "metadata": {
    "ExecuteTime": {
     "end_time": "2025-09-22T04:13:10.540911Z",
     "start_time": "2025-09-22T04:13:10.539154Z"
    }
   },
   "cell_type": "code",
   "source": "a.mean()",
   "id": "47260ef6cdc92f7c",
   "outputs": [
    {
     "data": {
      "text/plain": [
       "np.float64(2.0)"
      ]
     },
     "execution_count": 59,
     "metadata": {},
     "output_type": "execute_result"
    }
   ],
   "execution_count": 59
  },
  {
   "metadata": {
    "ExecuteTime": {
     "end_time": "2025-09-22T04:13:23.996478Z",
     "start_time": "2025-09-22T04:13:23.993899Z"
    }
   },
   "cell_type": "code",
   "source": "a.std()",
   "id": "1a2ce308b0216b6d",
   "outputs": [
    {
     "data": {
      "text/plain": [
       "np.float64(1.4142135623730951)"
      ]
     },
     "execution_count": 60,
     "metadata": {},
     "output_type": "execute_result"
    }
   ],
   "execution_count": 60
  },
  {
   "metadata": {
    "ExecuteTime": {
     "end_time": "2025-09-22T04:13:48.827806Z",
     "start_time": "2025-09-22T04:13:48.825221Z"
    }
   },
   "cell_type": "code",
   "source": "n.min()",
   "id": "eff540538195f12e",
   "outputs": [
    {
     "data": {
      "text/plain": [
       "np.int64(0)"
      ]
     },
     "execution_count": 61,
     "metadata": {},
     "output_type": "execute_result"
    }
   ],
   "execution_count": 61
  },
  {
   "metadata": {},
   "cell_type": "code",
   "outputs": [],
   "execution_count": null,
   "source": "",
   "id": "259482724a753bbd"
  }
 ],
 "metadata": {
  "kernelspec": {
   "display_name": "Python 3",
   "language": "python",
   "name": "python3"
  },
  "language_info": {
   "codemirror_mode": {
    "name": "ipython",
    "version": 2
   },
   "file_extension": ".py",
   "mimetype": "text/x-python",
   "name": "python",
   "nbconvert_exporter": "python",
   "pygments_lexer": "ipython2",
   "version": "2.7.6"
  }
 },
 "nbformat": 4,
 "nbformat_minor": 5
}
